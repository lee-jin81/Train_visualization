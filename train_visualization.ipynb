{
 "cells": [
  {
   "cell_type": "markdown",
   "id": "1016ed46",
   "metadata": {},
   "source": [
    "# Analyzing subway data"
   ]
  },
  {
   "cell_type": "markdown",
   "id": "84d91041",
   "metadata": {},
   "source": [
    "## Abstract\n",
    "In this project, I am analyzing subway data over a 3-month period to identify the top 10 busiest train stations. \n",
    "\n",
    "**Note:**\n",
    "This code is excerpted from my original project \"How can we recommend a better train schedule based on the traffic at the stations?\". The full code can be found under my [github repo](https://github.com/lee-jin81/metis_project_1_EDA)\n",
    "\n",
    "**Source of data: http://web.mta.info/developers/turnstile.html**"
   ]
  },
  {
   "cell_type": "markdown",
   "id": "4552e006",
   "metadata": {},
   "source": [
    "### Retrieve data "
   ]
  },
  {
   "cell_type": "code",
   "execution_count": 1,
   "id": "2c9ae06f",
   "metadata": {},
   "outputs": [],
   "source": [
    "#import libraries and packages\n",
    "from sqlalchemy import create_engine\n",
    "import pandas as pd\n",
    "import datetime\n",
    "import matplotlib.pyplot as plt\n",
    "import numpy as np\n",
    "from datetime import datetime, timedelta"
   ]
  },
  {
   "cell_type": "code",
   "execution_count": 3,
   "id": "0727c421",
   "metadata": {},
   "outputs": [
    {
     "data": {
      "text/html": [
       "<div>\n",
       "<style scoped>\n",
       "    .dataframe tbody tr th:only-of-type {\n",
       "        vertical-align: middle;\n",
       "    }\n",
       "\n",
       "    .dataframe tbody tr th {\n",
       "        vertical-align: top;\n",
       "    }\n",
       "\n",
       "    .dataframe thead th {\n",
       "        text-align: right;\n",
       "    }\n",
       "</style>\n",
       "<table border=\"1\" class=\"dataframe\">\n",
       "  <thead>\n",
       "    <tr style=\"text-align: right;\">\n",
       "      <th></th>\n",
       "      <th>C/A</th>\n",
       "      <th>UNIT</th>\n",
       "      <th>SCP</th>\n",
       "      <th>STATION</th>\n",
       "      <th>LINENAME</th>\n",
       "      <th>DIVISION</th>\n",
       "      <th>DATE</th>\n",
       "      <th>TIME</th>\n",
       "      <th>DESC</th>\n",
       "      <th>ENTRIES</th>\n",
       "      <th>EXITS</th>\n",
       "    </tr>\n",
       "  </thead>\n",
       "  <tbody>\n",
       "    <tr>\n",
       "      <th>0</th>\n",
       "      <td>A002</td>\n",
       "      <td>R051</td>\n",
       "      <td>02-00-00</td>\n",
       "      <td>59 ST</td>\n",
       "      <td>NQR456W</td>\n",
       "      <td>BMT</td>\n",
       "      <td>12/18/2021</td>\n",
       "      <td>03:00:00</td>\n",
       "      <td>REGULAR</td>\n",
       "      <td>7672966</td>\n",
       "      <td>2645023</td>\n",
       "    </tr>\n",
       "    <tr>\n",
       "      <th>1</th>\n",
       "      <td>A002</td>\n",
       "      <td>R051</td>\n",
       "      <td>02-00-00</td>\n",
       "      <td>59 ST</td>\n",
       "      <td>NQR456W</td>\n",
       "      <td>BMT</td>\n",
       "      <td>12/18/2021</td>\n",
       "      <td>07:00:00</td>\n",
       "      <td>REGULAR</td>\n",
       "      <td>7672969</td>\n",
       "      <td>2645040</td>\n",
       "    </tr>\n",
       "    <tr>\n",
       "      <th>2</th>\n",
       "      <td>A002</td>\n",
       "      <td>R051</td>\n",
       "      <td>02-00-00</td>\n",
       "      <td>59 ST</td>\n",
       "      <td>NQR456W</td>\n",
       "      <td>BMT</td>\n",
       "      <td>12/18/2021</td>\n",
       "      <td>11:00:00</td>\n",
       "      <td>REGULAR</td>\n",
       "      <td>7672991</td>\n",
       "      <td>2645127</td>\n",
       "    </tr>\n",
       "    <tr>\n",
       "      <th>3</th>\n",
       "      <td>A002</td>\n",
       "      <td>R051</td>\n",
       "      <td>02-00-00</td>\n",
       "      <td>59 ST</td>\n",
       "      <td>NQR456W</td>\n",
       "      <td>BMT</td>\n",
       "      <td>12/18/2021</td>\n",
       "      <td>15:00:00</td>\n",
       "      <td>REGULAR</td>\n",
       "      <td>7673037</td>\n",
       "      <td>2645193</td>\n",
       "    </tr>\n",
       "    <tr>\n",
       "      <th>4</th>\n",
       "      <td>A002</td>\n",
       "      <td>R051</td>\n",
       "      <td>02-00-00</td>\n",
       "      <td>59 ST</td>\n",
       "      <td>NQR456W</td>\n",
       "      <td>BMT</td>\n",
       "      <td>12/18/2021</td>\n",
       "      <td>19:00:00</td>\n",
       "      <td>REGULAR</td>\n",
       "      <td>7673097</td>\n",
       "      <td>2645270</td>\n",
       "    </tr>\n",
       "  </tbody>\n",
       "</table>\n",
       "</div>"
      ],
      "text/plain": [
       "    C/A  UNIT       SCP STATION LINENAME DIVISION        DATE      TIME  \\\n",
       "0  A002  R051  02-00-00   59 ST  NQR456W      BMT  12/18/2021  03:00:00   \n",
       "1  A002  R051  02-00-00   59 ST  NQR456W      BMT  12/18/2021  07:00:00   \n",
       "2  A002  R051  02-00-00   59 ST  NQR456W      BMT  12/18/2021  11:00:00   \n",
       "3  A002  R051  02-00-00   59 ST  NQR456W      BMT  12/18/2021  15:00:00   \n",
       "4  A002  R051  02-00-00   59 ST  NQR456W      BMT  12/18/2021  19:00:00   \n",
       "\n",
       "      DESC  ENTRIES    EXITS  \n",
       "0  REGULAR  7672966  2645023  \n",
       "1  REGULAR  7672969  2645040  \n",
       "2  REGULAR  7672991  2645127  \n",
       "3  REGULAR  7673037  2645193  \n",
       "4  REGULAR  7673097  2645270  "
      ]
     },
     "execution_count": 3,
     "metadata": {},
     "output_type": "execute_result"
    }
   ],
   "source": [
    "# data is stored in SQLite\n",
    "# query data from SQL database\n",
    "engine = create_engine('sqlite:///mta_data_project.db')\n",
    "\n",
    "# load database with pandas\n",
    "df = pd.read_sql('SELECT * FROM mta_data', engine)\n",
    "df.head()"
   ]
  },
  {
   "cell_type": "markdown",
   "id": "fca4c3b0",
   "metadata": {},
   "source": [
    "### Clean data"
   ]
  },
  {
   "cell_type": "code",
   "execution_count": 4,
   "id": "3afc91aa",
   "metadata": {},
   "outputs": [],
   "source": [
    "# create a datetime column \n",
    "df['DATE_TIME'] = pd.to_datetime(df['DATE'] + \" \" + df['TIME'])\n",
    "\n",
    "# sort data in descending order (last entries first)\n",
    "df.sort_values(['C/A', 'UNIT', 'SCP', 'STATION', 'DATE_TIME'], inplace = True, ascending=False)"
   ]
  },
  {
   "cell_type": "code",
   "execution_count": 5,
   "id": "1883041c",
   "metadata": {},
   "outputs": [
    {
     "data": {
      "text/html": [
       "<div>\n",
       "<style scoped>\n",
       "    .dataframe tbody tr th:only-of-type {\n",
       "        vertical-align: middle;\n",
       "    }\n",
       "\n",
       "    .dataframe tbody tr th {\n",
       "        vertical-align: top;\n",
       "    }\n",
       "\n",
       "    .dataframe thead th {\n",
       "        text-align: right;\n",
       "    }\n",
       "</style>\n",
       "<table border=\"1\" class=\"dataframe\">\n",
       "  <thead>\n",
       "    <tr style=\"text-align: right;\">\n",
       "      <th></th>\n",
       "      <th>C/A</th>\n",
       "      <th>UNIT</th>\n",
       "      <th>SCP</th>\n",
       "      <th>STATION</th>\n",
       "      <th>DATE_TIME</th>\n",
       "      <th>ENTRIES</th>\n",
       "    </tr>\n",
       "  </thead>\n",
       "  <tbody>\n",
       "    <tr>\n",
       "      <th>405945</th>\n",
       "      <td>G001</td>\n",
       "      <td>R151</td>\n",
       "      <td>00-05-01</td>\n",
       "      <td>CONEY IS-STILLW</td>\n",
       "      <td>2021-11-08</td>\n",
       "      <td>2</td>\n",
       "    </tr>\n",
       "    <tr>\n",
       "      <th>2710700</th>\n",
       "      <td>S101</td>\n",
       "      <td>R070</td>\n",
       "      <td>00-00-02</td>\n",
       "      <td>ST. GEORGE</td>\n",
       "      <td>2021-10-02</td>\n",
       "      <td>2</td>\n",
       "    </tr>\n",
       "  </tbody>\n",
       "</table>\n",
       "</div>"
      ],
      "text/plain": [
       "          C/A  UNIT       SCP          STATION  DATE_TIME  ENTRIES\n",
       "405945   G001  R151  00-05-01  CONEY IS-STILLW 2021-11-08        2\n",
       "2710700  S101  R070  00-00-02       ST. GEORGE 2021-10-02        2"
      ]
     },
     "execution_count": 5,
     "metadata": {},
     "output_type": "execute_result"
    }
   ],
   "source": [
    "# check for duplicates\n",
    "# Note: each combination of C/A, UNIT, SCP, and STATION represents a unique turnstile \n",
    "# Each datetime should only have 1 entry per tunrstile\n",
    "# grouping data by c/a, unit, scp to represent each station at each date time entry\n",
    "(df\n",
    " .groupby(['C/A', 'UNIT', 'SCP', 'STATION', 'DATE_TIME'])\n",
    ".ENTRIES.count()\n",
    ".reset_index()\n",
    ".sort_values('ENTRIES', ascending=False)\n",
    ".head(2))"
   ]
  },
  {
   "cell_type": "code",
   "execution_count": 6,
   "id": "c60176ed",
   "metadata": {},
   "outputs": [
    {
     "data": {
      "text/html": [
       "<div>\n",
       "<style scoped>\n",
       "    .dataframe tbody tr th:only-of-type {\n",
       "        vertical-align: middle;\n",
       "    }\n",
       "\n",
       "    .dataframe tbody tr th {\n",
       "        vertical-align: top;\n",
       "    }\n",
       "\n",
       "    .dataframe thead th {\n",
       "        text-align: right;\n",
       "    }\n",
       "</style>\n",
       "<table border=\"1\" class=\"dataframe\">\n",
       "  <thead>\n",
       "    <tr style=\"text-align: right;\">\n",
       "      <th></th>\n",
       "      <th>C/A</th>\n",
       "      <th>UNIT</th>\n",
       "      <th>SCP</th>\n",
       "      <th>STATION</th>\n",
       "      <th>LINENAME</th>\n",
       "      <th>DIVISION</th>\n",
       "      <th>DATE</th>\n",
       "      <th>TIME</th>\n",
       "      <th>DESC</th>\n",
       "      <th>ENTRIES</th>\n",
       "      <th>EXITS</th>\n",
       "      <th>DATE_TIME</th>\n",
       "    </tr>\n",
       "  </thead>\n",
       "  <tbody>\n",
       "    <tr>\n",
       "      <th>1292837</th>\n",
       "      <td>G001</td>\n",
       "      <td>R151</td>\n",
       "      <td>00-05-01</td>\n",
       "      <td>CONEY IS-STILLW</td>\n",
       "      <td>DFNQ</td>\n",
       "      <td>BMT</td>\n",
       "      <td>11/08/2021</td>\n",
       "      <td>00:00:00</td>\n",
       "      <td>REGULAR</td>\n",
       "      <td>327700</td>\n",
       "      <td>29</td>\n",
       "      <td>2021-11-08</td>\n",
       "    </tr>\n",
       "    <tr>\n",
       "      <th>1292838</th>\n",
       "      <td>G001</td>\n",
       "      <td>R151</td>\n",
       "      <td>00-05-01</td>\n",
       "      <td>CONEY IS-STILLW</td>\n",
       "      <td>DFNQ</td>\n",
       "      <td>BMT</td>\n",
       "      <td>11/08/2021</td>\n",
       "      <td>00:00:00</td>\n",
       "      <td>RECOVR AUD</td>\n",
       "      <td>0</td>\n",
       "      <td>367</td>\n",
       "      <td>2021-11-08</td>\n",
       "    </tr>\n",
       "  </tbody>\n",
       "</table>\n",
       "</div>"
      ],
      "text/plain": [
       "          C/A  UNIT       SCP          STATION LINENAME DIVISION        DATE  \\\n",
       "1292837  G001  R151  00-05-01  CONEY IS-STILLW     DFNQ      BMT  11/08/2021   \n",
       "1292838  G001  R151  00-05-01  CONEY IS-STILLW     DFNQ      BMT  11/08/2021   \n",
       "\n",
       "             TIME        DESC  ENTRIES  EXITS  DATE_TIME  \n",
       "1292837  00:00:00     REGULAR   327700     29 2021-11-08  \n",
       "1292838  00:00:00  RECOVR AUD        0    367 2021-11-08  "
      ]
     },
     "execution_count": 6,
     "metadata": {},
     "output_type": "execute_result"
    }
   ],
   "source": [
    "# prevvious aggregate shows that station coney and st.george have 2 entries.\n",
    "# what causes multiple entries per turnstile per datetime?\n",
    "# Each datetime should only have 1 entry per tunrstile.\n",
    "# create a mask to analyze station coney\n",
    "mask = (df[(df['C/A'] == 'G001') &\n",
    "          (df['UNIT'] == 'R151') &\n",
    "          (df['SCP'] == '00-05-01') &\n",
    "          (df['STATION'] == 'CONEY IS-STILLW') & \n",
    "          (df['DATE_TIME'] == '2021-11-08 00:00:00')])\n",
    "mask"
   ]
  },
  {
   "cell_type": "code",
   "execution_count": 7,
   "id": "6973a75b",
   "metadata": {},
   "outputs": [],
   "source": [
    "# Coney station has 2 entries at the same datetime: REGULAR and RECOVER AUD\n",
    "# drop duplicate row of RECOVER AUD and keep REGULAR\n",
    "df.drop_duplicates(subset=['C/A', 'UNIT', 'SCP', 'STATION', 'DATE_TIME'], inplace=True)"
   ]
  },
  {
   "cell_type": "code",
   "execution_count": 8,
   "id": "8534527d",
   "metadata": {},
   "outputs": [
    {
     "data": {
      "text/html": [
       "<div>\n",
       "<style scoped>\n",
       "    .dataframe tbody tr th:only-of-type {\n",
       "        vertical-align: middle;\n",
       "    }\n",
       "\n",
       "    .dataframe tbody tr th {\n",
       "        vertical-align: top;\n",
       "    }\n",
       "\n",
       "    .dataframe thead th {\n",
       "        text-align: right;\n",
       "    }\n",
       "</style>\n",
       "<table border=\"1\" class=\"dataframe\">\n",
       "  <thead>\n",
       "    <tr style=\"text-align: right;\">\n",
       "      <th></th>\n",
       "      <th>C/A</th>\n",
       "      <th>UNIT</th>\n",
       "      <th>SCP</th>\n",
       "      <th>STATION</th>\n",
       "      <th>DATE_TIME</th>\n",
       "      <th>ENTRIES</th>\n",
       "    </tr>\n",
       "  </thead>\n",
       "  <tbody>\n",
       "    <tr>\n",
       "      <th>0</th>\n",
       "      <td>A002</td>\n",
       "      <td>R051</td>\n",
       "      <td>02-00-00</td>\n",
       "      <td>59 ST</td>\n",
       "      <td>2021-09-25 00:00:00</td>\n",
       "      <td>1</td>\n",
       "    </tr>\n",
       "    <tr>\n",
       "      <th>1821692</th>\n",
       "      <td>R141</td>\n",
       "      <td>R031</td>\n",
       "      <td>00-03-02</td>\n",
       "      <td>34 ST-PENN STA</td>\n",
       "      <td>2021-12-21 15:00:00</td>\n",
       "      <td>1</td>\n",
       "    </tr>\n",
       "  </tbody>\n",
       "</table>\n",
       "</div>"
      ],
      "text/plain": [
       "          C/A  UNIT       SCP         STATION           DATE_TIME  ENTRIES\n",
       "0        A002  R051  02-00-00           59 ST 2021-09-25 00:00:00        1\n",
       "1821692  R141  R031  00-03-02  34 ST-PENN STA 2021-12-21 15:00:00        1"
      ]
     },
     "execution_count": 8,
     "metadata": {},
     "output_type": "execute_result"
    }
   ],
   "source": [
    "# check that duplicate entries are removed\n",
    "# each row should display 1 entry after aggregation\n",
    "(df\n",
    " .groupby(['C/A', 'UNIT', 'SCP', 'STATION', 'DATE_TIME'])\n",
    ".ENTRIES.count()\n",
    ".reset_index()\n",
    ".sort_values('ENTRIES', ascending=False)\n",
    ".head(2))"
   ]
  },
  {
   "cell_type": "code",
   "execution_count": 9,
   "id": "1510c11b",
   "metadata": {},
   "outputs": [],
   "source": [
    "# drop the desc column since we don't need it anymore\n",
    "df = df.drop('DESC', axis = 1, errors= 'ignore')\n",
    "\n",
    "# create a column for a unique turnstile combination\n",
    "df['TURNSTILE'] = df['C/A'] + ' ' + df['UNIT'] + ' ' + df['SCP'] + ' ' + df['STATION']"
   ]
  },
  {
   "cell_type": "markdown",
   "id": "7859de3c",
   "metadata": {},
   "source": [
    "### Calculate daily entries at a subway station"
   ]
  },
  {
   "cell_type": "code",
   "execution_count": 10,
   "id": "e6d0313d",
   "metadata": {},
   "outputs": [
    {
     "data": {
      "text/html": [
       "<div>\n",
       "<style scoped>\n",
       "    .dataframe tbody tr th:only-of-type {\n",
       "        vertical-align: middle;\n",
       "    }\n",
       "\n",
       "    .dataframe tbody tr th {\n",
       "        vertical-align: top;\n",
       "    }\n",
       "\n",
       "    .dataframe thead th {\n",
       "        text-align: right;\n",
       "    }\n",
       "</style>\n",
       "<table border=\"1\" class=\"dataframe\">\n",
       "  <thead>\n",
       "    <tr style=\"text-align: right;\">\n",
       "      <th></th>\n",
       "      <th>TURNSTILE</th>\n",
       "      <th>LINENAME</th>\n",
       "      <th>STATION</th>\n",
       "      <th>DATE</th>\n",
       "      <th>DATE_TIME</th>\n",
       "      <th>ENTRIES</th>\n",
       "    </tr>\n",
       "  </thead>\n",
       "  <tbody>\n",
       "    <tr>\n",
       "      <th>210382</th>\n",
       "      <td>TRAM2 R469 00-05-01 RIT-ROOSEVELT</td>\n",
       "      <td>R</td>\n",
       "      <td>RIT-ROOSEVELT</td>\n",
       "      <td>12/24/2021</td>\n",
       "      <td>2021-12-24 20:00:00</td>\n",
       "      <td>5562</td>\n",
       "    </tr>\n",
       "    <tr>\n",
       "      <th>210381</th>\n",
       "      <td>TRAM2 R469 00-05-01 RIT-ROOSEVELT</td>\n",
       "      <td>R</td>\n",
       "      <td>RIT-ROOSEVELT</td>\n",
       "      <td>12/24/2021</td>\n",
       "      <td>2021-12-24 16:00:00</td>\n",
       "      <td>5562</td>\n",
       "    </tr>\n",
       "  </tbody>\n",
       "</table>\n",
       "</div>"
      ],
      "text/plain": [
       "                                TURNSTILE LINENAME        STATION        DATE  \\\n",
       "210382  TRAM2 R469 00-05-01 RIT-ROOSEVELT        R  RIT-ROOSEVELT  12/24/2021   \n",
       "210381  TRAM2 R469 00-05-01 RIT-ROOSEVELT        R  RIT-ROOSEVELT  12/24/2021   \n",
       "\n",
       "                 DATE_TIME  ENTRIES  \n",
       "210382 2021-12-24 20:00:00     5562  \n",
       "210381 2021-12-24 16:00:00     5562  "
      ]
     },
     "execution_count": 10,
     "metadata": {},
     "output_type": "execute_result"
    }
   ],
   "source": [
    "# create a new df with selected columns that we need for analysis.\n",
    "df2 = df[['TURNSTILE','LINENAME','STATION', 'DATE', 'DATE_TIME', 'ENTRIES']]\n",
    "df2 = pd.DataFrame(df2)\n",
    "\n",
    "df2.sort_values(['TURNSTILE','STATION', 'DATE', 'DATE_TIME'], inplace = True, ascending = False)\n",
    "\n",
    "df2.head(2)"
   ]
  },
  {
   "cell_type": "code",
   "execution_count": 11,
   "id": "f967d1d3",
   "metadata": {},
   "outputs": [],
   "source": [
    "# create columns to display the previes datetime for entries data\n",
    "df2[['PREV_DATE_TIME', 'PREV_ENTRIES']] = \\\n",
    "(df2.groupby(['TURNSTILE','STATION'], as_index = False)\\\n",
    " [['DATE_TIME','ENTRIES']]\\\n",
    " .apply(lambda grp: grp.shift(1)))"
   ]
  },
  {
   "cell_type": "code",
   "execution_count": 12,
   "id": "f6073033",
   "metadata": {},
   "outputs": [
    {
     "data": {
      "text/html": [
       "<div>\n",
       "<style scoped>\n",
       "    .dataframe tbody tr th:only-of-type {\n",
       "        vertical-align: middle;\n",
       "    }\n",
       "\n",
       "    .dataframe tbody tr th {\n",
       "        vertical-align: top;\n",
       "    }\n",
       "\n",
       "    .dataframe thead th {\n",
       "        text-align: right;\n",
       "    }\n",
       "</style>\n",
       "<table border=\"1\" class=\"dataframe\">\n",
       "  <thead>\n",
       "    <tr style=\"text-align: right;\">\n",
       "      <th></th>\n",
       "      <th>TURNSTILE</th>\n",
       "      <th>LINENAME</th>\n",
       "      <th>STATION</th>\n",
       "      <th>DATE</th>\n",
       "      <th>DATE_TIME</th>\n",
       "      <th>ENTRIES</th>\n",
       "      <th>PREV_DATE_TIME</th>\n",
       "      <th>PREV_ENTRIES</th>\n",
       "    </tr>\n",
       "  </thead>\n",
       "  <tbody>\n",
       "    <tr>\n",
       "      <th>210381</th>\n",
       "      <td>TRAM2 R469 00-05-01 RIT-ROOSEVELT</td>\n",
       "      <td>R</td>\n",
       "      <td>RIT-ROOSEVELT</td>\n",
       "      <td>12/24/2021</td>\n",
       "      <td>2021-12-24 16:00:00</td>\n",
       "      <td>5562</td>\n",
       "      <td>2021-12-24 20:00:00</td>\n",
       "      <td>5562.0</td>\n",
       "    </tr>\n",
       "  </tbody>\n",
       "</table>\n",
       "</div>"
      ],
      "text/plain": [
       "                                TURNSTILE LINENAME        STATION        DATE  \\\n",
       "210381  TRAM2 R469 00-05-01 RIT-ROOSEVELT        R  RIT-ROOSEVELT  12/24/2021   \n",
       "\n",
       "                 DATE_TIME  ENTRIES      PREV_DATE_TIME  PREV_ENTRIES  \n",
       "210381 2021-12-24 16:00:00     5562 2021-12-24 20:00:00        5562.0  "
      ]
     },
     "execution_count": 12,
     "metadata": {},
     "output_type": "execute_result"
    }
   ],
   "source": [
    "# drop rows with no previous dates\n",
    "df2.dropna(subset=['PREV_DATE_TIME'], axis = 0, inplace=True)\n",
    "\n",
    "#check for null values\n",
    "df2.isna().sum()\n",
    "df2.head(1)"
   ]
  },
  {
   "cell_type": "markdown",
   "id": "3a3f232f",
   "metadata": {},
   "source": [
    "#### Apply counter to entries\n",
    "\n",
    "Calculate actual entries by applying a function that takes into account that a counter reset number of entries after it reaches a maximum count"
   ]
  },
  {
   "cell_type": "code",
   "execution_count": 13,
   "id": "770ee065",
   "metadata": {},
   "outputs": [],
   "source": [
    "# function returns entries data assuming that counter was reset\n",
    "# max_count: number at which counter resets\n",
    "def entries_counter(row, max_count):\n",
    "    # entries data are cumulative \n",
    "    # to calculate entries per day, take the difference from the previous day\n",
    "    count = row['ENTRIES'] - row['PREV_ENTRIES']\n",
    "    \n",
    "    # if count is a negative value, assume that counter is in reverse,\n",
    "    # get a positive value instead\n",
    "    if count < 0:\n",
    "        count = -count\n",
    "    \n",
    "    # assume counter was reset to 0, choose min value \n",
    "    if count > max_count:\n",
    "        count = min(row['ENTRIES'], row['PREV_ENTRIES'])\n",
    "    \n",
    "    # check again if minimum value of entries is still greater than max count\n",
    "    # return zero if that is the case\n",
    "    if count > max_count:\n",
    "        return 0\n",
    "    \n",
    "    return count"
   ]
  },
  {
   "cell_type": "markdown",
   "id": "4ddab2e8",
   "metadata": {},
   "source": [
    "Reset the counter at 172,800. Assumptions made:\n",
    "* There are 86,400 seconds per day. \n",
    "* Assuming 2 entries per turnstile per second, a single turnstile can have up to 172,800 entries per day. "
   ]
  },
  {
   "cell_type": "code",
   "execution_count": 14,
   "id": "ba385f4e",
   "metadata": {},
   "outputs": [],
   "source": [
    "# Now we can calculate daily entries from the cumulative data.\n",
    "# create new columns displaying actual entries per day\n",
    "df2['DAILY_ENTRIES'] = df2.apply(entries_counter, axis = 1, max_count = 172_800)"
   ]
  },
  {
   "cell_type": "markdown",
   "id": "05a50c93",
   "metadata": {},
   "source": [
    "### Calculate daily entries by station"
   ]
  },
  {
   "cell_type": "code",
   "execution_count": 15,
   "id": "307caf6c",
   "metadata": {},
   "outputs": [
    {
     "data": {
      "text/html": [
       "<div>\n",
       "<style scoped>\n",
       "    .dataframe tbody tr th:only-of-type {\n",
       "        vertical-align: middle;\n",
       "    }\n",
       "\n",
       "    .dataframe tbody tr th {\n",
       "        vertical-align: top;\n",
       "    }\n",
       "\n",
       "    .dataframe thead th {\n",
       "        text-align: right;\n",
       "    }\n",
       "</style>\n",
       "<table border=\"1\" class=\"dataframe\">\n",
       "  <thead>\n",
       "    <tr style=\"text-align: right;\">\n",
       "      <th></th>\n",
       "      <th>index</th>\n",
       "      <th>STATION</th>\n",
       "      <th>DAILY_ENTRIES</th>\n",
       "    </tr>\n",
       "  </thead>\n",
       "  <tbody>\n",
       "    <tr>\n",
       "      <th>0</th>\n",
       "      <td>61</td>\n",
       "      <td>34 ST-PENN STA</td>\n",
       "      <td>4841767.0</td>\n",
       "    </tr>\n",
       "    <tr>\n",
       "      <th>1</th>\n",
       "      <td>258</td>\n",
       "      <td>JOURNAL SQUARE</td>\n",
       "      <td>3722143.0</td>\n",
       "    </tr>\n",
       "  </tbody>\n",
       "</table>\n",
       "</div>"
      ],
      "text/plain": [
       "   index         STATION  DAILY_ENTRIES\n",
       "0     61  34 ST-PENN STA      4841767.0\n",
       "1    258  JOURNAL SQUARE      3722143.0"
      ]
     },
     "execution_count": 15,
     "metadata": {},
     "output_type": "execute_result"
    }
   ],
   "source": [
    "# aggregate entries by station by day\n",
    "station_total_entries = (df2.groupby('STATION', as_index = False)\n",
    "                         [['DAILY_ENTRIES']].sum()\n",
    "                         .sort_values('DAILY_ENTRIES', ascending = False)\n",
    "                         .reset_index())\n",
    "\n",
    "station_total_entries.head(2)"
   ]
  },
  {
   "cell_type": "code",
   "execution_count": 16,
   "id": "19cb248a",
   "metadata": {},
   "outputs": [
    {
     "data": {
      "text/plain": [
       "Text(0.5, 1.0, 'Daily entries of the top 10 busiest stations')"
      ]
     },
     "execution_count": 16,
     "metadata": {},
     "output_type": "execute_result"
    },
    {
     "data": {
      "image/png": "[encoded data removed]",
      "text/plain": [
       "<Figure size 720x360 with 1 Axes>"
      ]
     },
     "metadata": {
      "needs_background": "light"
     },
     "output_type": "display_data"
    }
   ],
   "source": [
    "# plot bar chart displaying daily entries of stations. \n",
    "plt.figure(figsize=[10,5])\n",
    "\n",
    "plt.bar(x = station_total_entries['STATION'][:10], height = station_total_entries['DAILY_ENTRIES'][:10], \\\n",
    "        color='green')\n",
    "plt.xticks(rotation = 90)\n",
    "plt.ylabel('Daily entries', size=12)\n",
    "plt.title('Daily entries of the top 10 busiest stations', size=18)"
   ]
  },
  {
   "cell_type": "markdown",
   "id": "0009b272",
   "metadata": {},
   "source": [
    "* The busiest station is 34 ST-PENN STA."
   ]
  },
  {
   "cell_type": "code",
   "execution_count": 36,
   "id": "cae94c37",
   "metadata": {},
   "outputs": [
    {
     "data": {
      "text/html": [
       "<div>\n",
       "<style scoped>\n",
       "    .dataframe tbody tr th:only-of-type {\n",
       "        vertical-align: middle;\n",
       "    }\n",
       "\n",
       "    .dataframe tbody tr th {\n",
       "        vertical-align: top;\n",
       "    }\n",
       "\n",
       "    .dataframe thead th {\n",
       "        text-align: right;\n",
       "    }\n",
       "</style>\n",
       "<table border=\"1\" class=\"dataframe\">\n",
       "  <thead>\n",
       "    <tr style=\"text-align: right;\">\n",
       "      <th></th>\n",
       "      <th>DATE_TIME</th>\n",
       "      <th>DAILY_ENTRIES</th>\n",
       "    </tr>\n",
       "  </thead>\n",
       "  <tbody>\n",
       "    <tr>\n",
       "      <th>140858</th>\n",
       "      <td>2021-12-24 17:00:00</td>\n",
       "      <td>43.0</td>\n",
       "    </tr>\n",
       "    <tr>\n",
       "      <th>140857</th>\n",
       "      <td>2021-12-24 13:00:00</td>\n",
       "      <td>64.0</td>\n",
       "    </tr>\n",
       "    <tr>\n",
       "      <th>140856</th>\n",
       "      <td>2021-12-24 09:00:00</td>\n",
       "      <td>66.0</td>\n",
       "    </tr>\n",
       "    <tr>\n",
       "      <th>140855</th>\n",
       "      <td>2021-12-24 05:00:00</td>\n",
       "      <td>27.0</td>\n",
       "    </tr>\n",
       "    <tr>\n",
       "      <th>140854</th>\n",
       "      <td>2021-12-24 01:00:00</td>\n",
       "      <td>5.0</td>\n",
       "    </tr>\n",
       "  </tbody>\n",
       "</table>\n",
       "</div>"
      ],
      "text/plain": [
       "                 DATE_TIME  DAILY_ENTRIES\n",
       "140858 2021-12-24 17:00:00           43.0\n",
       "140857 2021-12-24 13:00:00           64.0\n",
       "140856 2021-12-24 09:00:00           66.0\n",
       "140855 2021-12-24 05:00:00           27.0\n",
       "140854 2021-12-24 01:00:00            5.0"
      ]
     },
     "execution_count": 36,
     "metadata": {},
     "output_type": "execute_result"
    }
   ],
   "source": [
    "# graph hourly entries of 34 ST-PENN STA over the 3-month period\n",
    "# filter data to include 34 st-penn sta only\n",
    "penn_station_mask = df2[df2['STATION'] == '34 ST-PENN STA']\n",
    "\n",
    "# datetime, and daily_entries column only\n",
    "penn_station_df = penn_station_mask[['DATE_TIME', 'DAILY_ENTRIES']]\n",
    "penn_station_df.head()"
   ]
  },
  {
   "cell_type": "code",
   "execution_count": 37,
   "id": "e1563085",
   "metadata": {},
   "outputs": [],
   "source": [
    "# function that rounds time to the nearest hour\n",
    "\n",
    "# time is in the format hh:mm:ss\n",
    "# round the timestamp to the nearest hour\n",
    "# return hour as an integer\n",
    "# e.g. 03:30:00 will return the integer 4\n",
    "def round_hour(TIME):\n",
    "    \n",
    "    # round hour up if it is greater than 30 min else round hour down\n",
    "    # e.g 03:35:00 will return 04:00:00\n",
    "    if TIME.minute >= 30:\n",
    "        timeString = str(TIME.replace(second=0, microsecond=0, minute=0, hour=TIME.hour+1))\n",
    "    else:\n",
    "        timeString = str(TIME.replace(second=0, microsecond=0, minute=0))\n",
    "        \n",
    "    # only return the hour portion of TIME diplayed as two digits (e.g. 04, 12, and etc)\n",
    "    # for single digit hour (e.g 04) we will return the second digit (index 1), omitting the zeros\n",
    "    # e.g 04 will return 4\n",
    "    # for 2 digits hour (e.g 12) we will return both digits (index 0:2)\n",
    "    if timeString[0] == '0':\n",
    "        return int(timeString[1])\n",
    "    \n",
    "    else:\n",
    "        return int(timeString[0:2]) "
   ]
  },
  {
   "cell_type": "code",
   "execution_count": 43,
   "id": "fcfe437d",
   "metadata": {},
   "outputs": [
    {
     "name": "stderr",
     "output_type": "stream",
     "text": [
      "/var/folders/rb/xjz9rwgx62s435ny2cx4kwk40000gn/T/ipykernel_15783/3643243443.py:3: SettingWithCopyWarning: \n",
      "A value is trying to be set on a copy of a slice from a DataFrame.\n",
      "Try using .loc[row_indexer,col_indexer] = value instead\n",
      "\n",
      "See the caveats in the documentation: https://pandas.pydata.org/pandas-docs/stable/user_guide/indexing.html#returning-a-view-versus-a-copy\n",
      "  penn_station_df['HOUR'] = penn_station_df.loc[:,'DATE_TIME'].dt.time.apply(round_hour)\n"
     ]
    },
    {
     "data": {
      "text/html": [
       "<div>\n",
       "<style scoped>\n",
       "    .dataframe tbody tr th:only-of-type {\n",
       "        vertical-align: middle;\n",
       "    }\n",
       "\n",
       "    .dataframe tbody tr th {\n",
       "        vertical-align: top;\n",
       "    }\n",
       "\n",
       "    .dataframe thead th {\n",
       "        text-align: right;\n",
       "    }\n",
       "</style>\n",
       "<table border=\"1\" class=\"dataframe\">\n",
       "  <thead>\n",
       "    <tr style=\"text-align: right;\">\n",
       "      <th></th>\n",
       "      <th>DATE_TIME</th>\n",
       "      <th>DAILY_ENTRIES</th>\n",
       "      <th>HOUR</th>\n",
       "    </tr>\n",
       "  </thead>\n",
       "  <tbody>\n",
       "    <tr>\n",
       "      <th>140858</th>\n",
       "      <td>2021-12-24 17:00:00</td>\n",
       "      <td>43.0</td>\n",
       "      <td>17</td>\n",
       "    </tr>\n",
       "    <tr>\n",
       "      <th>140857</th>\n",
       "      <td>2021-12-24 13:00:00</td>\n",
       "      <td>64.0</td>\n",
       "      <td>13</td>\n",
       "    </tr>\n",
       "    <tr>\n",
       "      <th>140856</th>\n",
       "      <td>2021-12-24 09:00:00</td>\n",
       "      <td>66.0</td>\n",
       "      <td>9</td>\n",
       "    </tr>\n",
       "    <tr>\n",
       "      <th>140855</th>\n",
       "      <td>2021-12-24 05:00:00</td>\n",
       "      <td>27.0</td>\n",
       "      <td>5</td>\n",
       "    </tr>\n",
       "    <tr>\n",
       "      <th>140854</th>\n",
       "      <td>2021-12-24 01:00:00</td>\n",
       "      <td>5.0</td>\n",
       "      <td>1</td>\n",
       "    </tr>\n",
       "  </tbody>\n",
       "</table>\n",
       "</div>"
      ],
      "text/plain": [
       "                 DATE_TIME  DAILY_ENTRIES  HOUR\n",
       "140858 2021-12-24 17:00:00           43.0    17\n",
       "140857 2021-12-24 13:00:00           64.0    13\n",
       "140856 2021-12-24 09:00:00           66.0     9\n",
       "140855 2021-12-24 05:00:00           27.0     5\n",
       "140854 2021-12-24 01:00:00            5.0     1"
      ]
     },
     "execution_count": 43,
     "metadata": {},
     "output_type": "execute_result"
    }
   ],
   "source": [
    "# create a column displaying the hour of the day\n",
    "# apply function round_hour to round hour to the nearest integer \n",
    "penn_station_df['HOUR'] = penn_station_df.loc[:,'DATE_TIME'].dt.time.apply(round_hour)\n",
    "penn_station_df.head()"
   ]
  },
  {
   "cell_type": "code",
   "execution_count": 26,
   "id": "3c4e0205",
   "metadata": {},
   "outputs": [
    {
     "data": {
      "text/plain": [
       "HOUR\n",
       "0     33701.0\n",
       "1      9206.0\n",
       "2     15185.0\n",
       "3    102710.0\n",
       "4    217018.0\n",
       "Name: DAILY_ENTRIES, dtype: float64"
      ]
     },
     "execution_count": 26,
     "metadata": {},
     "output_type": "execute_result"
    }
   ],
   "source": [
    "# aggregate daily_entries for every hour\n",
    "penn_station_hourly = penn_station_df.groupby('HOUR')['DAILY_ENTRIES'].sum()\n",
    "penn_station_hourly.head()"
   ]
  },
  {
   "cell_type": "code",
   "execution_count": 27,
   "id": "f99db560",
   "metadata": {
    "scrolled": true
   },
   "outputs": [
    {
     "data": {
      "text/plain": [
       "Text(0.5, 0, 'Time (24-hour)')"
      ]
     },
     "execution_count": 27,
     "metadata": {},
     "output_type": "execute_result"
    },
    {
     "data": {
      "image/png": "[encoded data removed]",
      "text/plain": [
       "<Figure size 720x288 with 1 Axes>"
      ]
     },
     "metadata": {
      "needs_background": "light"
     },
     "output_type": "display_data"
    }
   ],
   "source": [
    "# bar plot showing daily entries at each hour\n",
    "plt.figure(figsize=[10,4])\n",
    "penn_station_hourly.plot.bar(color='purple')\n",
    "\n",
    "plt.title('Hourly entries at 34 ST PENN STA', size=18, weight='bold')\n",
    "plt.ylabel('Entries', size=14)\n",
    "plt.xticks(rotation=0)\n",
    "plt.xlabel('Time (24-hour)', size =14)"
   ]
  },
  {
   "cell_type": "code",
   "execution_count": null,
   "id": "23ec5cf7",
   "metadata": {},
   "outputs": [],
   "source": []
  }
 ],
 "metadata": {
  "kernelspec": {
   "display_name": "Python [conda env:metis] *",
   "language": "python",
   "name": "conda-env-metis-py"
  },
  "language_info": {
   "codemirror_mode": {
    "name": "ipython",
    "version": 3
   },
   "file_extension": ".py",
   "mimetype": "text/x-python",
   "name": "python",
   "nbconvert_exporter": "python",
   "pygments_lexer": "ipython3",
   "version": "3.9.10"
  }
 },
 "nbformat": 4,
 "nbformat_minor": 5
}
